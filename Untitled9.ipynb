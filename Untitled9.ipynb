{
  "nbformat": 4,
  "nbformat_minor": 0,
  "metadata": {
    "colab": {
      "provenance": []
    },
    "kernelspec": {
      "name": "python3",
      "display_name": "Python 3"
    },
    "language_info": {
      "name": "python"
    }
  },
  "cells": [
    {
      "cell_type": "code",
      "execution_count": null,
      "metadata": {
        "id": "9rMn3Tcy5CSg"
      },
      "outputs": [],
      "source": [
        "import pandas as pd"
      ]
    },
    {
      "cell_type": "code",
      "source": [
        "news = pd.read_json('/content/drive/MyDrive/News_Category_Dataset_v3.json', lines=True)\n",
        "news.head()"
      ],
      "metadata": {
        "id": "wYaHjmot_lVm",
        "outputId": "863d9260-783c-4bc6-d2d7-e27ec898b42e",
        "colab": {
          "base_uri": "https://localhost:8080/",
          "height": 293
        }
      },
      "execution_count": null,
      "outputs": [
        {
          "output_type": "execute_result",
          "data": {
            "text/plain": [
              "                                                link  \\\n",
              "0  https://www.huffpost.com/entry/covid-boosters-...   \n",
              "1  https://www.huffpost.com/entry/american-airlin...   \n",
              "2  https://www.huffpost.com/entry/funniest-tweets...   \n",
              "3  https://www.huffpost.com/entry/funniest-parent...   \n",
              "4  https://www.huffpost.com/entry/amy-cooper-lose...   \n",
              "\n",
              "                                            headline   category  \\\n",
              "0  Over 4 Million Americans Roll Up Sleeves For O...  U.S. NEWS   \n",
              "1  American Airlines Flyer Charged, Banned For Li...  U.S. NEWS   \n",
              "2  23 Of The Funniest Tweets About Cats And Dogs ...     COMEDY   \n",
              "3  The Funniest Tweets From Parents This Week (Se...  PARENTING   \n",
              "4  Woman Who Called Cops On Black Bird-Watcher Lo...  U.S. NEWS   \n",
              "\n",
              "                                   short_description               authors  \\\n",
              "0  Health experts said it is too early to predict...  Carla K. Johnson, AP   \n",
              "1  He was subdued by passengers and crew when he ...        Mary Papenfuss   \n",
              "2  \"Until you have a dog you don't understand wha...         Elyse Wanshel   \n",
              "3  \"Accidentally put grown-up toothpaste on my to...      Caroline Bologna   \n",
              "4  Amy Cooper accused investment firm Franklin Te...        Nina Golgowski   \n",
              "\n",
              "        date  \n",
              "0 2022-09-23  \n",
              "1 2022-09-23  \n",
              "2 2022-09-23  \n",
              "3 2022-09-23  \n",
              "4 2022-09-22  "
            ],
            "text/html": [
              "\n",
              "  <div id=\"df-f2f5b0fd-0458-43b4-bedd-f11c0f0ac3f1\" class=\"colab-df-container\">\n",
              "    <div>\n",
              "<style scoped>\n",
              "    .dataframe tbody tr th:only-of-type {\n",
              "        vertical-align: middle;\n",
              "    }\n",
              "\n",
              "    .dataframe tbody tr th {\n",
              "        vertical-align: top;\n",
              "    }\n",
              "\n",
              "    .dataframe thead th {\n",
              "        text-align: right;\n",
              "    }\n",
              "</style>\n",
              "<table border=\"1\" class=\"dataframe\">\n",
              "  <thead>\n",
              "    <tr style=\"text-align: right;\">\n",
              "      <th></th>\n",
              "      <th>link</th>\n",
              "      <th>headline</th>\n",
              "      <th>category</th>\n",
              "      <th>short_description</th>\n",
              "      <th>authors</th>\n",
              "      <th>date</th>\n",
              "    </tr>\n",
              "  </thead>\n",
              "  <tbody>\n",
              "    <tr>\n",
              "      <th>0</th>\n",
              "      <td>https://www.huffpost.com/entry/covid-boosters-...</td>\n",
              "      <td>Over 4 Million Americans Roll Up Sleeves For O...</td>\n",
              "      <td>U.S. NEWS</td>\n",
              "      <td>Health experts said it is too early to predict...</td>\n",
              "      <td>Carla K. Johnson, AP</td>\n",
              "      <td>2022-09-23</td>\n",
              "    </tr>\n",
              "    <tr>\n",
              "      <th>1</th>\n",
              "      <td>https://www.huffpost.com/entry/american-airlin...</td>\n",
              "      <td>American Airlines Flyer Charged, Banned For Li...</td>\n",
              "      <td>U.S. NEWS</td>\n",
              "      <td>He was subdued by passengers and crew when he ...</td>\n",
              "      <td>Mary Papenfuss</td>\n",
              "      <td>2022-09-23</td>\n",
              "    </tr>\n",
              "    <tr>\n",
              "      <th>2</th>\n",
              "      <td>https://www.huffpost.com/entry/funniest-tweets...</td>\n",
              "      <td>23 Of The Funniest Tweets About Cats And Dogs ...</td>\n",
              "      <td>COMEDY</td>\n",
              "      <td>\"Until you have a dog you don't understand wha...</td>\n",
              "      <td>Elyse Wanshel</td>\n",
              "      <td>2022-09-23</td>\n",
              "    </tr>\n",
              "    <tr>\n",
              "      <th>3</th>\n",
              "      <td>https://www.huffpost.com/entry/funniest-parent...</td>\n",
              "      <td>The Funniest Tweets From Parents This Week (Se...</td>\n",
              "      <td>PARENTING</td>\n",
              "      <td>\"Accidentally put grown-up toothpaste on my to...</td>\n",
              "      <td>Caroline Bologna</td>\n",
              "      <td>2022-09-23</td>\n",
              "    </tr>\n",
              "    <tr>\n",
              "      <th>4</th>\n",
              "      <td>https://www.huffpost.com/entry/amy-cooper-lose...</td>\n",
              "      <td>Woman Who Called Cops On Black Bird-Watcher Lo...</td>\n",
              "      <td>U.S. NEWS</td>\n",
              "      <td>Amy Cooper accused investment firm Franklin Te...</td>\n",
              "      <td>Nina Golgowski</td>\n",
              "      <td>2022-09-22</td>\n",
              "    </tr>\n",
              "  </tbody>\n",
              "</table>\n",
              "</div>\n",
              "    <div class=\"colab-df-buttons\">\n",
              "\n",
              "  <div class=\"colab-df-container\">\n",
              "    <button class=\"colab-df-convert\" onclick=\"convertToInteractive('df-f2f5b0fd-0458-43b4-bedd-f11c0f0ac3f1')\"\n",
              "            title=\"Convert this dataframe to an interactive table.\"\n",
              "            style=\"display:none;\">\n",
              "\n",
              "  <svg xmlns=\"http://www.w3.org/2000/svg\" height=\"24px\" viewBox=\"0 -960 960 960\">\n",
              "    <path d=\"M120-120v-720h720v720H120Zm60-500h600v-160H180v160Zm220 220h160v-160H400v160Zm0 220h160v-160H400v160ZM180-400h160v-160H180v160Zm440 0h160v-160H620v160ZM180-180h160v-160H180v160Zm440 0h160v-160H620v160Z\"/>\n",
              "  </svg>\n",
              "    </button>\n",
              "\n",
              "  <style>\n",
              "    .colab-df-container {\n",
              "      display:flex;\n",
              "      gap: 12px;\n",
              "    }\n",
              "\n",
              "    .colab-df-convert {\n",
              "      background-color: #E8F0FE;\n",
              "      border: none;\n",
              "      border-radius: 50%;\n",
              "      cursor: pointer;\n",
              "      display: none;\n",
              "      fill: #1967D2;\n",
              "      height: 32px;\n",
              "      padding: 0 0 0 0;\n",
              "      width: 32px;\n",
              "    }\n",
              "\n",
              "    .colab-df-convert:hover {\n",
              "      background-color: #E2EBFA;\n",
              "      box-shadow: 0px 1px 2px rgba(60, 64, 67, 0.3), 0px 1px 3px 1px rgba(60, 64, 67, 0.15);\n",
              "      fill: #174EA6;\n",
              "    }\n",
              "\n",
              "    .colab-df-buttons div {\n",
              "      margin-bottom: 4px;\n",
              "    }\n",
              "\n",
              "    [theme=dark] .colab-df-convert {\n",
              "      background-color: #3B4455;\n",
              "      fill: #D2E3FC;\n",
              "    }\n",
              "\n",
              "    [theme=dark] .colab-df-convert:hover {\n",
              "      background-color: #434B5C;\n",
              "      box-shadow: 0px 1px 3px 1px rgba(0, 0, 0, 0.15);\n",
              "      filter: drop-shadow(0px 1px 2px rgba(0, 0, 0, 0.3));\n",
              "      fill: #FFFFFF;\n",
              "    }\n",
              "  </style>\n",
              "\n",
              "    <script>\n",
              "      const buttonEl =\n",
              "        document.querySelector('#df-f2f5b0fd-0458-43b4-bedd-f11c0f0ac3f1 button.colab-df-convert');\n",
              "      buttonEl.style.display =\n",
              "        google.colab.kernel.accessAllowed ? 'block' : 'none';\n",
              "\n",
              "      async function convertToInteractive(key) {\n",
              "        const element = document.querySelector('#df-f2f5b0fd-0458-43b4-bedd-f11c0f0ac3f1');\n",
              "        const dataTable =\n",
              "          await google.colab.kernel.invokeFunction('convertToInteractive',\n",
              "                                                    [key], {});\n",
              "        if (!dataTable) return;\n",
              "\n",
              "        const docLinkHtml = 'Like what you see? Visit the ' +\n",
              "          '<a target=\"_blank\" href=https://colab.research.google.com/notebooks/data_table.ipynb>data table notebook</a>'\n",
              "          + ' to learn more about interactive tables.';\n",
              "        element.innerHTML = '';\n",
              "        dataTable['output_type'] = 'display_data';\n",
              "        await google.colab.output.renderOutput(dataTable, element);\n",
              "        const docLink = document.createElement('div');\n",
              "        docLink.innerHTML = docLinkHtml;\n",
              "        element.appendChild(docLink);\n",
              "      }\n",
              "    </script>\n",
              "  </div>\n",
              "\n",
              "\n",
              "<div id=\"df-95b1bf89-4562-4e68-af21-b06d13d1f24b\">\n",
              "  <button class=\"colab-df-quickchart\" onclick=\"quickchart('df-95b1bf89-4562-4e68-af21-b06d13d1f24b')\"\n",
              "            title=\"Suggest charts\"\n",
              "            style=\"display:none;\">\n",
              "\n",
              "<svg xmlns=\"http://www.w3.org/2000/svg\" height=\"24px\"viewBox=\"0 0 24 24\"\n",
              "     width=\"24px\">\n",
              "    <g>\n",
              "        <path d=\"M19 3H5c-1.1 0-2 .9-2 2v14c0 1.1.9 2 2 2h14c1.1 0 2-.9 2-2V5c0-1.1-.9-2-2-2zM9 17H7v-7h2v7zm4 0h-2V7h2v10zm4 0h-2v-4h2v4z\"/>\n",
              "    </g>\n",
              "</svg>\n",
              "  </button>\n",
              "\n",
              "<style>\n",
              "  .colab-df-quickchart {\n",
              "      --bg-color: #E8F0FE;\n",
              "      --fill-color: #1967D2;\n",
              "      --hover-bg-color: #E2EBFA;\n",
              "      --hover-fill-color: #174EA6;\n",
              "      --disabled-fill-color: #AAA;\n",
              "      --disabled-bg-color: #DDD;\n",
              "  }\n",
              "\n",
              "  [theme=dark] .colab-df-quickchart {\n",
              "      --bg-color: #3B4455;\n",
              "      --fill-color: #D2E3FC;\n",
              "      --hover-bg-color: #434B5C;\n",
              "      --hover-fill-color: #FFFFFF;\n",
              "      --disabled-bg-color: #3B4455;\n",
              "      --disabled-fill-color: #666;\n",
              "  }\n",
              "\n",
              "  .colab-df-quickchart {\n",
              "    background-color: var(--bg-color);\n",
              "    border: none;\n",
              "    border-radius: 50%;\n",
              "    cursor: pointer;\n",
              "    display: none;\n",
              "    fill: var(--fill-color);\n",
              "    height: 32px;\n",
              "    padding: 0;\n",
              "    width: 32px;\n",
              "  }\n",
              "\n",
              "  .colab-df-quickchart:hover {\n",
              "    background-color: var(--hover-bg-color);\n",
              "    box-shadow: 0 1px 2px rgba(60, 64, 67, 0.3), 0 1px 3px 1px rgba(60, 64, 67, 0.15);\n",
              "    fill: var(--button-hover-fill-color);\n",
              "  }\n",
              "\n",
              "  .colab-df-quickchart-complete:disabled,\n",
              "  .colab-df-quickchart-complete:disabled:hover {\n",
              "    background-color: var(--disabled-bg-color);\n",
              "    fill: var(--disabled-fill-color);\n",
              "    box-shadow: none;\n",
              "  }\n",
              "\n",
              "  .colab-df-spinner {\n",
              "    border: 2px solid var(--fill-color);\n",
              "    border-color: transparent;\n",
              "    border-bottom-color: var(--fill-color);\n",
              "    animation:\n",
              "      spin 1s steps(1) infinite;\n",
              "  }\n",
              "\n",
              "  @keyframes spin {\n",
              "    0% {\n",
              "      border-color: transparent;\n",
              "      border-bottom-color: var(--fill-color);\n",
              "      border-left-color: var(--fill-color);\n",
              "    }\n",
              "    20% {\n",
              "      border-color: transparent;\n",
              "      border-left-color: var(--fill-color);\n",
              "      border-top-color: var(--fill-color);\n",
              "    }\n",
              "    30% {\n",
              "      border-color: transparent;\n",
              "      border-left-color: var(--fill-color);\n",
              "      border-top-color: var(--fill-color);\n",
              "      border-right-color: var(--fill-color);\n",
              "    }\n",
              "    40% {\n",
              "      border-color: transparent;\n",
              "      border-right-color: var(--fill-color);\n",
              "      border-top-color: var(--fill-color);\n",
              "    }\n",
              "    60% {\n",
              "      border-color: transparent;\n",
              "      border-right-color: var(--fill-color);\n",
              "    }\n",
              "    80% {\n",
              "      border-color: transparent;\n",
              "      border-right-color: var(--fill-color);\n",
              "      border-bottom-color: var(--fill-color);\n",
              "    }\n",
              "    90% {\n",
              "      border-color: transparent;\n",
              "      border-bottom-color: var(--fill-color);\n",
              "    }\n",
              "  }\n",
              "</style>\n",
              "\n",
              "  <script>\n",
              "    async function quickchart(key) {\n",
              "      const quickchartButtonEl =\n",
              "        document.querySelector('#' + key + ' button');\n",
              "      quickchartButtonEl.disabled = true;  // To prevent multiple clicks.\n",
              "      quickchartButtonEl.classList.add('colab-df-spinner');\n",
              "      try {\n",
              "        const charts = await google.colab.kernel.invokeFunction(\n",
              "            'suggestCharts', [key], {});\n",
              "      } catch (error) {\n",
              "        console.error('Error during call to suggestCharts:', error);\n",
              "      }\n",
              "      quickchartButtonEl.classList.remove('colab-df-spinner');\n",
              "      quickchartButtonEl.classList.add('colab-df-quickchart-complete');\n",
              "    }\n",
              "    (() => {\n",
              "      let quickchartButtonEl =\n",
              "        document.querySelector('#df-95b1bf89-4562-4e68-af21-b06d13d1f24b button');\n",
              "      quickchartButtonEl.style.display =\n",
              "        google.colab.kernel.accessAllowed ? 'block' : 'none';\n",
              "    })();\n",
              "  </script>\n",
              "</div>\n",
              "\n",
              "    </div>\n",
              "  </div>\n"
            ],
            "application/vnd.google.colaboratory.intrinsic+json": {
              "type": "dataframe",
              "variable_name": "news"
            }
          },
          "metadata": {},
          "execution_count": 2
        }
      ]
    },
    {
      "cell_type": "code",
      "source": [
        "set(news['category'].to_list())"
      ],
      "metadata": {
        "colab": {
          "base_uri": "https://localhost:8080/"
        },
        "id": "-fblUd1zMhzs",
        "outputId": "f576052b-148f-4fa0-e183-b568ad2a9848"
      },
      "execution_count": null,
      "outputs": [
        {
          "output_type": "execute_result",
          "data": {
            "text/plain": [
              "{'ARTS',\n",
              " 'ARTS & CULTURE',\n",
              " 'BLACK VOICES',\n",
              " 'BUSINESS',\n",
              " 'COLLEGE',\n",
              " 'COMEDY',\n",
              " 'CRIME',\n",
              " 'CULTURE & ARTS',\n",
              " 'DIVORCE',\n",
              " 'EDUCATION',\n",
              " 'ENTERTAINMENT',\n",
              " 'ENVIRONMENT',\n",
              " 'FIFTY',\n",
              " 'FOOD & DRINK',\n",
              " 'GOOD NEWS',\n",
              " 'GREEN',\n",
              " 'HEALTHY LIVING',\n",
              " 'HOME & LIVING',\n",
              " 'IMPACT',\n",
              " 'LATINO VOICES',\n",
              " 'MEDIA',\n",
              " 'MONEY',\n",
              " 'PARENTING',\n",
              " 'PARENTS',\n",
              " 'POLITICS',\n",
              " 'QUEER VOICES',\n",
              " 'RELIGION',\n",
              " 'SCIENCE',\n",
              " 'SPORTS',\n",
              " 'STYLE',\n",
              " 'STYLE & BEAUTY',\n",
              " 'TASTE',\n",
              " 'TECH',\n",
              " 'THE WORLDPOST',\n",
              " 'TRAVEL',\n",
              " 'U.S. NEWS',\n",
              " 'WEDDINGS',\n",
              " 'WEIRD NEWS',\n",
              " 'WELLNESS',\n",
              " 'WOMEN',\n",
              " 'WORLD NEWS',\n",
              " 'WORLDPOST'}"
            ]
          },
          "metadata": {},
          "execution_count": 3
        }
      ]
    },
    {
      "cell_type": "code",
      "source": [
        "Cat_token = {cat:i for i, cat in enumerate(set(news['category'].to_list()))}\n",
        "tocat = {i:cat for cat, i in Cat_token.items()}"
      ],
      "metadata": {
        "id": "uf3qU7aEP8GT"
      },
      "execution_count": null,
      "outputs": []
    },
    {
      "cell_type": "code",
      "source": [
        "Cat_token"
      ],
      "metadata": {
        "colab": {
          "base_uri": "https://localhost:8080/"
        },
        "id": "56HDeH4QdOaG",
        "outputId": "e15d99fd-952a-4f72-fcec-2f45b6b02014"
      },
      "execution_count": null,
      "outputs": [
        {
          "output_type": "execute_result",
          "data": {
            "text/plain": [
              "{'U.S. NEWS': 0,\n",
              " 'WEDDINGS': 1,\n",
              " 'FIFTY': 2,\n",
              " 'BUSINESS': 3,\n",
              " 'ENVIRONMENT': 4,\n",
              " 'TASTE': 5,\n",
              " 'RELIGION': 6,\n",
              " 'WORLDPOST': 7,\n",
              " 'MEDIA': 8,\n",
              " 'SPORTS': 9,\n",
              " 'STYLE': 10,\n",
              " 'ARTS & CULTURE': 11,\n",
              " 'PARENTING': 12,\n",
              " 'GOOD NEWS': 13,\n",
              " 'EDUCATION': 14,\n",
              " 'POLITICS': 15,\n",
              " 'BLACK VOICES': 16,\n",
              " 'GREEN': 17,\n",
              " 'WELLNESS': 18,\n",
              " 'FOOD & DRINK': 19,\n",
              " 'CULTURE & ARTS': 20,\n",
              " 'HOME & LIVING': 21,\n",
              " 'DIVORCE': 22,\n",
              " 'COLLEGE': 23,\n",
              " 'TECH': 24,\n",
              " 'MONEY': 25,\n",
              " 'LATINO VOICES': 26,\n",
              " 'SCIENCE': 27,\n",
              " 'ENTERTAINMENT': 28,\n",
              " 'COMEDY': 29,\n",
              " 'WOMEN': 30,\n",
              " 'QUEER VOICES': 31,\n",
              " 'ARTS': 32,\n",
              " 'WEIRD NEWS': 33,\n",
              " 'PARENTS': 34,\n",
              " 'TRAVEL': 35,\n",
              " 'IMPACT': 36,\n",
              " 'CRIME': 37,\n",
              " 'WORLD NEWS': 38,\n",
              " 'HEALTHY LIVING': 39,\n",
              " 'STYLE & BEAUTY': 40,\n",
              " 'THE WORLDPOST': 41}"
            ]
          },
          "metadata": {},
          "execution_count": 29
        }
      ]
    },
    {
      "cell_type": "code",
      "source": [
        "from tensorflow.keras.preprocessing.text import Tokenizer\n",
        "from tensorflow.keras.preprocessing.sequence import pad_sequences"
      ],
      "metadata": {
        "id": "Jl311zaBR1dM"
      },
      "execution_count": null,
      "outputs": []
    },
    {
      "cell_type": "code",
      "source": [
        "len(news['headline'])"
      ],
      "metadata": {
        "colab": {
          "base_uri": "https://localhost:8080/"
        },
        "id": "huwR8kLVa0ej",
        "outputId": "4ae61ec0-a626-4b05-cde1-98aa384947ca"
      },
      "execution_count": null,
      "outputs": [
        {
          "output_type": "execute_result",
          "data": {
            "text/plain": [
              "209527"
            ]
          },
          "metadata": {},
          "execution_count": 5
        }
      ]
    },
    {
      "cell_type": "code",
      "source": [
        "vocab_size = 10000\n",
        "maxlen = 80\n",
        "\n",
        "# train : val : test = 90% : 5% : 5%\n",
        "\n",
        "n1 = int(len(news) * 0.9)\n",
        "n2 = int(len(news) * 0.95)\n",
        "Xtr = news['headline'].to_list()[:n1]######################## training dataset\n",
        "Ytr = news['category'].to_list()[:n1]########################\n",
        "Xval = news['headline'].to_list()[n1:n2]#-------------------- Validation dataset\n",
        "Yval = news['category'].to_list()[n1:n2]#--------------------\n",
        "Xtst = news['headline'].to_list()[n2:]#********************** testing dataset\n",
        "Ytst = news['category'].to_list()[n2:]#**********************"
      ],
      "metadata": {
        "id": "H3l_aOqKaajP"
      },
      "execution_count": null,
      "outputs": []
    },
    {
      "cell_type": "code",
      "source": [
        "# Tokenization\n",
        "\n",
        "tokenizer = Tokenizer(num_words=vocab_size, oov_token=\"<OOV>\")\n",
        "tokenizer.fit_on_texts(Xtr)\n",
        "\n",
        "train_sequences = tokenizer.texts_to_sequences(Xtr)\n",
        "train_sequences = pad_sequences(train_sequences, maxlen=maxlen, padding='post', truncating='post')\n",
        "\n",
        "val_sequences = tokenizer.texts_to_sequences(Xval)\n",
        "val_sequences = pad_sequences(val_sequences, maxlen=maxlen, padding='post', truncating='post')\n",
        "\n",
        "test_sequences = tokenizer.texts_to_sequences(Xtst)\n",
        "test_sequences = pad_sequences(test_sequences, maxlen=maxlen, padding='post', truncating='post')"
      ],
      "metadata": {
        "id": "LW6CH3zsacdX"
      },
      "execution_count": null,
      "outputs": []
    },
    {
      "cell_type": "code",
      "source": [
        "import numpy as np\n",
        "\n",
        "train_sequences = np.array(train_sequences)\n",
        "train_label = np.array([Cat_token[y] for y in Ytr])\n",
        "\n",
        "val_sequences = np.array(val_sequences)\n",
        "val_labels = np.array([Cat_token[y] for y in Yval])\n",
        "\n",
        "test_sequences = np.array(test_sequences)\n",
        "test_labels = np.array([Cat_token[y] for y in Ytst])\n"
      ],
      "metadata": {
        "id": "ST1Z5SPVcRXZ"
      },
      "execution_count": null,
      "outputs": []
    },
    {
      "cell_type": "code",
      "source": [
        "print(train_sequences.shape, train_label.shape)\n",
        "print(val_sequences.shape, val_labels.shape)\n",
        "print(test_sequences.shape, test_labels.shape)"
      ],
      "metadata": {
        "colab": {
          "base_uri": "https://localhost:8080/"
        },
        "id": "vqC-Zi7oeaF1",
        "outputId": "99857ae5-f3dd-4918-ce32-15869e9c2c92"
      },
      "execution_count": null,
      "outputs": [
        {
          "output_type": "stream",
          "name": "stdout",
          "text": [
            "(188574, 80) (188574,)\n",
            "(20743, 80) (20743,)\n",
            "(210, 80) (210,)\n"
          ]
        }
      ]
    },
    {
      "cell_type": "code",
      "source": [
        "import tensorflow as tf\n",
        "\n",
        "layers = [\n",
        "    tf.keras.layers.Dense(1000, activation='relu', use_bias=False),\n",
        "    tf.keras.layers.BatchNormalization(),\n",
        "    tf.keras.layers.Dense(500, activation='relu', use_bias=False),\n",
        "    tf.keras.layers.BatchNormalization(),\n",
        "    tf.keras.layers.Dense(len(Cat_token), activation='softmax')\n",
        "]\n",
        "embedding = tf.keras.layers.Embedding(vocab_size, 32) # embedding table\n",
        "cross_entropy = tf.keras.losses.SparseCategoricalCrossentropy() # loss function\n",
        "optimizer = tf.keras.optimizers.Adam() # adam optimizer"
      ],
      "metadata": {
        "id": "bq2Q_7hdeGHJ"
      },
      "execution_count": null,
      "outputs": []
    },
    {
      "cell_type": "code",
      "source": [
        "tr_loss, val_loss = [], []\n",
        "batch_size = 32\n",
        "for i in range(1000):\n",
        "  ix = tf.random.uniform(shape=(batch_size,), minval=0, maxval=train_sequences.shape[0], dtype=tf.int32)\n",
        "  Xb, Yb = train_sequences[ix], train_label[ix].reshape((-1))  # minibatch\n",
        "  # print(Xb.shape, Yb.shape)\n",
        "  with tf.GradientTape(persistent=True) as tape:\n",
        "    emb = tf.reshape(embedding(Xb), (batch_size, -1))\n",
        "\n",
        "    for layer in layers:\n",
        "      emb = layer(emb)                                         # forward propagation\n",
        "\n",
        "    loss_tr = cross_entropy(Yb, emb)\n",
        "\n",
        "  tr_loss.append(loss_tr.numpy())\n",
        "\n",
        "  parameters = embedding.trainable_variables\n",
        "  for layer in layers:\n",
        "    parameters += layer.trainable_variables\n",
        "\n",
        "  gradient = tape.gradient(loss_tr, parameters) # calculating gradients\n",
        "  optimizer.apply_gradients(zip(gradient, parameters))\n",
        "\n",
        "  # validation here\n",
        "\n",
        "  # emb = tf.reshape(embedding(val_sequences), (210, -1)) # Flattening\n",
        "\n",
        "  # for layer in layers:\n",
        "  #   emb = layer(emb)\n",
        "\n",
        "  # loss_val = cross_entropy(val_labels, emb)\n",
        "  # val_loss.append(loss_val.numpy())\n",
        "\n",
        "  if i % 100 == 0:\n",
        "    print(f\"Epoch {i}, Train Loss {loss_tr.numpy()}\") #, Test Loss {loss_ts.numpy()}\")\n",
        "  # break"
      ],
      "metadata": {
        "id": "lTWa4MEUAn8I",
        "colab": {
          "base_uri": "https://localhost:8080/"
        },
        "outputId": "6de91040-0a1d-4cb4-bc9f-82f6d6ccb8b0"
      },
      "execution_count": null,
      "outputs": [
        {
          "output_type": "stream",
          "name": "stdout",
          "text": [
            "Epoch 0, Train Loss 3.55243182182312\n",
            "Epoch 100, Train Loss 3.374480724334717\n",
            "Epoch 200, Train Loss 2.7075588703155518\n",
            "Epoch 300, Train Loss 2.702359199523926\n",
            "Epoch 400, Train Loss 3.045764923095703\n",
            "Epoch 500, Train Loss 2.9617362022399902\n",
            "Epoch 600, Train Loss 3.437460422515869\n",
            "Epoch 700, Train Loss 2.284755229949951\n",
            "Epoch 800, Train Loss 1.8970708847045898\n",
            "Epoch 900, Train Loss 2.6925811767578125\n"
          ]
        }
      ]
    },
    {
      "cell_type": "code",
      "source": [
        "import matplotlib.pyplot as plt\n",
        "\n",
        "print('Minimum loss  :',min(val_loss))\n",
        "print('Maximum loss  :',max(val_loss))\n",
        "print('mean loss  :',sum(val_loss)/len(val_loss))\n",
        "plt.plot(val_loss)\n",
        "plt.plot(val_loss)\n",
        "\n",
        "plt.legend(['Training', 'Validation'])\n",
        "plt.xlabel('Epoch')\n",
        "plt.ylabel('Loss')\n",
        "plt.show()"
      ],
      "metadata": {
        "colab": {
          "base_uri": "https://localhost:8080/",
          "height": 449
        },
        "id": "2bBtrcDW3jXK",
        "outputId": "ab45fefd-a368-4787-c048-8ca824f17901"
      },
      "execution_count": null,
      "outputs": [
        {
          "output_type": "display_data",
          "data": {
            "text/plain": [
              "<Figure size 640x480 with 1 Axes>"
            ],
            "image/png": "[encoded data removed]"
          },
          "metadata": {}
        }
      ]
    },
    {
      "cell_type": "code",
      "source": [
        "emb = tf.reshape(embedding(test_sequences[0]), (1, -1))\n",
        "for layer in layers:\n",
        "  emb = layer(emb)\n",
        "loss = cross_entropy(test_labels[0], emb)\n",
        "loss.numpy()"
      ],
      "metadata": {
        "colab": {
          "base_uri": "https://localhost:8080/"
        },
        "id": "bKp-Nhb_bh9S",
        "outputId": "cea7c95d-31a1-4745-dc85-0e01e551f4b0"
      },
      "execution_count": null,
      "outputs": [
        {
          "output_type": "execute_result",
          "data": {
            "text/plain": [
              "8.847555"
            ]
          },
          "metadata": {},
          "execution_count": 14
        }
      ]
    },
    {
      "cell_type": "code",
      "source": [
        "import random\n",
        "\n",
        "n = random.randint(0, len(test_sequences))\n",
        "\n",
        "sample = test_sequences[n].reshape(1, maxlen)\n",
        "emb = tf.reshape(embedding(sample), (embedding(sample).shape[0], -1))\n",
        "for layer in layers:\n",
        "  emb = layer(emb)\n",
        "\n",
        "idx = emb.numpy().argmax()\n",
        "tocat[idx], tocat[val_labels[n]]"
      ],
      "metadata": {
        "colab": {
          "base_uri": "https://localhost:8080/"
        },
        "id": "GQFYMelxptNN",
        "outputId": "c7efe2d4-9498-46ec-ed77-a9b6c0822436"
      },
      "execution_count": null,
      "outputs": [
        {
          "output_type": "execute_result",
          "data": {
            "text/plain": [
              "('TRAVEL', 'TRAVEL')"
            ]
          },
          "metadata": {},
          "execution_count": 32
        }
      ]
    }
  ]
}